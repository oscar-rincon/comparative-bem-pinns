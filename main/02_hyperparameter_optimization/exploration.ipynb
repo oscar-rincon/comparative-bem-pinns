{
 "cells": [
  {
   "cell_type": "code",
   "execution_count": 5,
   "id": "75a60df5",
   "metadata": {},
   "outputs": [
    {
     "name": "stdout",
     "output_type": "stream",
     "text": [
      "0.07305468414835259 {'adam_lr': 0.1, 'hidden_layers': 3, 'hidden_units': 75, 'activation': 'Sine'}\n"
     ]
    }
   ],
   "source": [
    "import pandas as pd\n",
    "import joblib\n",
    "\n",
    "# Cargar el estudio\n",
    "study_loaded = joblib.load(\"data/study.pkl\")\n",
    "print(study_loaded.best_value, study_loaded.best_params)\n",
    "\n",
    "df = study_loaded.trials_dataframe()\n",
    "\n",
    "# Guardar el DataFrame en un archivo CSV\n",
    "df.to_csv(\"data/study.csv\", index=False)"
   ]
  },
  {
   "cell_type": "code",
   "execution_count": 9,
   "id": "72d7a819",
   "metadata": {},
   "outputs": [],
   "source": [
    "# Filter by the parameters of interest\n",
    "df_filtered = df[(df[\"params_hidden_layers\"] == 3) & (df[\"params_hidden_units\"] == 25)]\n",
    "\n",
    "# Sort by objective value (ascending = best first)\n",
    "df_filtered_sorted = df_filtered.sort_values(by=\"value\", ascending=True)\n",
    "\n",
    "# Save the filtered and sorted DataFrame to a new CSV file\n",
    "df_filtered_sorted.to_csv(\"data/study_filtered_sorted.csv\", index=False)"
   ]
  }
 ],
 "metadata": {
  "kernelspec": {
   "display_name": "comparative-pinns-bem-env",
   "language": "python",
   "name": "python3"
  },
  "language_info": {
   "codemirror_mode": {
    "name": "ipython",
    "version": 3
   },
   "file_extension": ".py",
   "mimetype": "text/x-python",
   "name": "python",
   "nbconvert_exporter": "python",
   "pygments_lexer": "ipython3",
   "version": "3.12.3"
  }
 },
 "nbformat": 4,
 "nbformat_minor": 5
}
