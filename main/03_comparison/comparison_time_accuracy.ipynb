{
 "cells": [
  {
   "cell_type": "code",
   "execution_count": 1,
   "id": "b2706cd9",
   "metadata": {},
   "outputs": [],
   "source": [
    "%load_ext autoreload\n",
    "%autoreload 2\n",
    "\n",
    "# -*- coding: utf-8 -*-\n",
    "import sys\n",
    "import os\n",
    "import pandas as pd\n",
    "import numpy as np\n",
    "import time\n",
    "\n",
    "# Set the current directory and utilities path\n",
    "current_dir = os.getcwd()\n",
    "utilities_dir = os.path.join(current_dir, '../../utilities')\n",
    "\n",
    "# Change the working directory to the notebook's directory\n",
    "os.chdir(current_dir)\n",
    "\n",
    "# Modify the module search path to include utilities directory\n",
    "sys.path.insert(0, utilities_dir)\n",
    "\n",
    "# Import the function to evaluate BEM accuracy\n",
    "from bem_solution_functions import evaluate_bem_accuracy\n",
    "from analytical_solution_functions import sound_hard_circle_calc \n",
    "from analytical_solution_functions import mask_displacement\n",
    "from pinns_solution_functions import evaluate_pinn_accuracy "
   ]
  },
  {
   "cell_type": "markdown",
   "id": "4989570b",
   "metadata": {},
   "source": [
    "# BEM time and accuracy"
   ]
  },
  {
   "cell_type": "code",
   "execution_count": 2,
   "id": "50bf09e4",
   "metadata": {},
   "outputs": [
    {
     "name": "stdout",
     "output_type": "stream",
     "text": [
      "Evaluando para n = 5...\n",
      "Evaluando para n = 10...\n",
      "Evaluando para n = 15...\n",
      "Evaluando para n = 20...\n",
      "Evaluando para n = 25...\n",
      "Evaluando para n = 30...\n",
      "Evaluando para n = 35...\n",
      "Evaluando para n = 40...\n",
      "Evaluando para n = 45...\n",
      "Evaluando para n = 50...\n",
      "Resultados guardados en 'bem_accuracy_vs_n.csv'\n"
     ]
    }
   ],
   "source": [
    "# Lista de valores de n a evaluar\n",
    "n_values = [5, 10, 15, 20, 25, 30, 35, 40, 45, 50]\n",
    "\n",
    "# Crear listas vacías para almacenar los resultados\n",
    "results = []\n",
    "\n",
    "# Evaluar para cada n\n",
    "for n in n_values:\n",
    "    print(f\"Evaluando para n = {n}...\")\n",
    "    t, err = evaluate_bem_accuracy(n=n)\n",
    "    results.append({\n",
    "        \"n\": n,\n",
    "        \"time_sec\": t,\n",
    "        \"relative_error\": err\n",
    "    })\n",
    "\n",
    "# Convertir a DataFrame\n",
    "df = pd.DataFrame(results)\n",
    "\n",
    "# Guardar en un archivo CSV\n",
    "df.to_csv(\"data/bem_accuracy_vs_n.csv\", index=False)\n",
    "\n",
    "# Mostrar resultados\n",
    "print(\"Resultados guardados en 'bem_accuracy_vs_n.csv'\")"
   ]
  },
  {
   "cell_type": "markdown",
   "id": "550e5b0a",
   "metadata": {},
   "source": [
    "# PINNs time and accuracy"
   ]
  },
  {
   "cell_type": "code",
   "execution_count": 5,
   "id": "c6622d95",
   "metadata": {},
   "outputs": [
    {
     "name": "stdout",
     "output_type": "stream",
     "text": [
      "Evaluando para capas = 1, neuronas = 25...\n",
      "Evaluando para capas = 1, neuronas = 50...\n",
      "Evaluando para capas = 1, neuronas = 75...\n",
      "Evaluando para capas = 2, neuronas = 25...\n",
      "Evaluando para capas = 2, neuronas = 50...\n",
      "Evaluando para capas = 2, neuronas = 75...\n",
      "Evaluando para capas = 3, neuronas = 25...\n",
      "Evaluando para capas = 3, neuronas = 50...\n",
      "Evaluando para capas = 3, neuronas = 75...\n",
      "Resultados guardados en 'pinn_accuracy_vs_architecture.csv'\n"
     ]
    }
   ],
   "source": [
    " \n",
    "# Listas de capas y neuronas por capa a evaluar\n",
    "layer_values = [1, 2, 3]\n",
    "neuron_values = [25, 50, 75]\n",
    "\n",
    "# Crear lista para almacenar resultados\n",
    "results = []\n",
    "\n",
    "# Evaluar para cada combinación de capas y neuronas\n",
    "for layers in layer_values:\n",
    "    for neurons in neuron_values:\n",
    "        print(f\"Evaluando para capas = {layers}, neuronas = {neurons}...\")\n",
    "        t, err = evaluate_pinn_accuracy(layers, neurons)\n",
    "        results.append({\n",
    "            \"layers\": layers,\n",
    "            \"neurons_per_layer\": neurons,\n",
    "            \"time_sec\": t,\n",
    "            \"relative_error\": err\n",
    "        })\n",
    "\n",
    "# Convertir a DataFrame\n",
    "df = pd.DataFrame(results)\n",
    "\n",
    "# Guardar en un archivo CSV\n",
    "df.to_csv(\"data/pinn_accuracy_vs_architecture.csv\", index=False)\n",
    "\n",
    "# Mostrar mensaje final\n",
    "print(\"Resultados guardados en 'pinn_accuracy_vs_architecture.csv'\")"
   ]
  },
  {
   "cell_type": "code",
   "execution_count": 25,
   "id": "1aaf3ab2",
   "metadata": {},
   "outputs": [
    {
     "data": {
      "text/plain": [
       "<bound method NDFrame.keys of    layers  neurons_per_layer  time_sec  relative_error\n",
       "0       1                 25  0.163093        0.909947\n",
       "1       1                 50  0.065364        0.798120\n",
       "2       1                 75  0.085559        0.725999\n",
       "3       2                 25  0.061924        0.410374\n",
       "4       2                 50  0.082148        0.116607\n",
       "5       2                 75  0.093672        0.077176\n",
       "6       3                 25  0.066928        0.151893\n",
       "7       3                 50  0.162581        0.075492\n",
       "8       3                 75  0.109086        0.074648>"
      ]
     },
     "execution_count": 25,
     "metadata": {},
     "output_type": "execute_result"
    }
   ],
   "source": [
    "pinn_df.keys"
   ]
  },
  {
   "cell_type": "code",
   "execution_count": 31,
   "id": "1bd5d0b3",
   "metadata": {},
   "outputs": [
    {
     "data": {
      "application/vnd.microsoft.datawrangler.viewer.v0+json": {
       "columns": [
        {
         "name": "index",
         "rawType": "int64",
         "type": "integer"
        },
        {
         "name": "layers",
         "rawType": "int64",
         "type": "integer"
        }
       ],
       "ref": "218665a1-44e3-47b3-8245-1b30b6a7c14c",
       "rows": [
        [
         "0",
         "1"
        ],
        [
         "1",
         "1"
        ],
        [
         "2",
         "1"
        ],
        [
         "3",
         "2"
        ],
        [
         "4",
         "2"
        ],
        [
         "5",
         "2"
        ],
        [
         "6",
         "3"
        ],
        [
         "7",
         "3"
        ],
        [
         "8",
         "3"
        ]
       ],
       "shape": {
        "columns": 1,
        "rows": 9
       }
      },
      "text/plain": [
       "0    1\n",
       "1    1\n",
       "2    1\n",
       "3    2\n",
       "4    2\n",
       "5    2\n",
       "6    3\n",
       "7    3\n",
       "8    3\n",
       "Name: layers, dtype: int64"
      ]
     },
     "execution_count": 31,
     "metadata": {},
     "output_type": "execute_result"
    }
   ],
   "source": [
    "pinn_df[\"layers\"]"
   ]
  },
  {
   "cell_type": "code",
   "execution_count": 32,
   "id": "893b26a0",
   "metadata": {},
   "outputs": [
    {
     "data": {
      "image/png": "[encoded data removed]",
      "text/plain": [
       "<Figure size 500x250 with 1 Axes>"
      ]
     },
     "metadata": {},
     "output_type": "display_data"
    }
   ],
   "source": [
    "import pandas as pd\n",
    "import matplotlib.pyplot as plt\n",
    "from matplotlib.ticker import LogLocator\n",
    "\n",
    "# --- Load CSV data ---\n",
    "bem_df = pd.read_csv(\"data/bem_accuracy_vs_n.csv\")\n",
    "pinn_df = pd.read_csv(\"data/pinn_accuracy_vs_architecture.csv\")\n",
    "\n",
    "# --- Extract BEM data ---\n",
    "bem_rel_error = bem_df[\"relative_error\"]\n",
    "bem_time = bem_df[\"time_sec\"]\n",
    "\n",
    "# --- Plot setup ---\n",
    "plt.figure(figsize=(5.0, 2.5))\n",
    "\n",
    "# --- Plot BEM ---\n",
    "plt.scatter(bem_rel_error, bem_time, \n",
    "            color=\"#0059ffff\", edgecolors=\"#0000ecff\", \n",
    "            label='BEM', s=20, zorder=5)\n",
    "\n",
    "# --- Define marker styles for different number of layers ---\n",
    "marker_styles = ['o', 's', '^', 'v', 'D', '*', 'X', 'P']\n",
    "unique_layers = sorted(pinn_df[\"layers\"].unique())\n",
    "marker_map = dict(zip(unique_layers, marker_styles))\n",
    "\n",
    "# --- Plot PINN grouped by num_layers ---\n",
    "for layer in unique_layers:\n",
    "    layer_df = pinn_df[pinn_df[\"layers\"] == layer]\n",
    "    plt.scatter(layer_df[\"relative_error\"], layer_df[\"time_sec\"],\n",
    "                label=f'PINN ({layer} layers)',\n",
    "                color=\"#bbbbbbff\", edgecolors=\"#5e5e5eff\", \n",
    "                marker=marker_map[layer], s=20, zorder=4)\n",
    "\n",
    "# --- Axes labels ---\n",
    "plt.xlabel('Relative Error', fontsize=8)\n",
    "plt.ylabel('Time (s)', fontsize=8)\n",
    "\n",
    "# --- Log-log scale ---\n",
    "plt.xscale('log')\n",
    "plt.yscale('log')\n",
    "\n",
    "# --- Ticks ---\n",
    "ax = plt.gca()\n",
    "ax.set_xticks([1e+0, 1e-1, 1e-2])\n",
    "ax.set_xticklabels([r'$10^{0}$', r'$10^{-1}$', r'$10^{-2}$'])\n",
    "ax.yaxis.set_major_locator(LogLocator(base=10.0, subs=(1.0, 2.0, 5.0), numticks=10))\n",
    "\n",
    "# --- Legend ---\n",
    "plt.legend(loc='lower left', fontsize=7.5, frameon=False, handletextpad=0.5, markerscale=0.9, labelspacing=1.2)\n",
    "\n",
    "# --- Final layout and save ---\n",
    "plt.tight_layout()\n",
    "plt.savefig(\"figures/rel_error_time.svg\", dpi=150, bbox_inches='tight')\n",
    "plt.show()"
   ]
  }
 ],
 "metadata": {
  "kernelspec": {
   "display_name": "comparative-pinns-bem-env",
   "language": "python",
   "name": "python3"
  },
  "language_info": {
   "codemirror_mode": {
    "name": "ipython",
    "version": 3
   },
   "file_extension": ".py",
   "mimetype": "text/x-python",
   "name": "python",
   "nbconvert_exporter": "python",
   "pygments_lexer": "ipython3",
   "version": "3.12.3"
  }
 },
 "nbformat": 4,
 "nbformat_minor": 5
}
