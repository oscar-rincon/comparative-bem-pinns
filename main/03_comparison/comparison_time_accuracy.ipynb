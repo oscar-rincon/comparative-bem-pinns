{
 "cells": [
  {
   "cell_type": "code",
   "execution_count": null,
   "id": "b2706cd9",
   "metadata": {},
   "outputs": [],
   "source": [
    "%load_ext autoreload\n",
    "%autoreload 2\n",
    "\n",
    "# -*- coding: utf-8 -*-\n",
    "import sys\n",
    "import os\n",
    "import pandas as pd\n",
    "import pandas as pd\n",
    "import matplotlib.pyplot as plt\n",
    "from matplotlib.ticker import LogLocator\n",
    "\n",
    "# Set the current directory and utilities path\n",
    "current_dir = os.getcwd()\n",
    "utilities_dir = os.path.join(current_dir, '../../utilities')\n",
    "\n",
    "# Change the working directory to the notebook's directory\n",
    "os.chdir(current_dir)\n",
    "\n",
    "# Modify the module search path to include utilities directory\n",
    "sys.path.insert(0, utilities_dir)\n",
    "\n",
    "# Import the function to evaluate BEM accuracy\n",
    "from bem_solution_functions import evaluate_bem_accuracy\n",
    "from analytical_solution_functions import sound_hard_circle_calc \n",
    "from analytical_solution_functions import mask_displacement\n",
    "from pinns_solution_functions import evaluate_pinn_accuracy "
   ]
  },
  {
   "cell_type": "markdown",
   "id": "4989570b",
   "metadata": {},
   "source": [
    "# BEM time and accuracy"
   ]
  },
  {
   "cell_type": "code",
   "execution_count": 37,
   "id": "50bf09e4",
   "metadata": {},
   "outputs": [
    {
     "name": "stdout",
     "output_type": "stream",
     "text": [
      "Evaluando para n = 5...\n",
      "Evaluando para n = 10...\n",
      "Evaluando para n = 15...\n",
      "Evaluando para n = 20...\n",
      "Evaluando para n = 25...\n",
      "Evaluando para n = 30...\n",
      "Evaluando para n = 35...\n",
      "Evaluando para n = 40...\n",
      "Evaluando para n = 45...\n",
      "Evaluando para n = 50...\n",
      "Resultados guardados en 'bem_accuracy_vs_n.csv'\n"
     ]
    }
   ],
   "source": [
    "# List of n values to evaluate\n",
    "n_values = [5, 10, 15, 20, 25, 30, 35, 40, 45, 50]\n",
    "\n",
    "# Create an empty list to store the results\n",
    "results = []\n",
    "\n",
    "# Evaluate for each value of n\n",
    "for n in n_values:\n",
    "    print(f\"Evaluating for n = {n}...\")\n",
    "    t, err = evaluate_bem_accuracy(n=n)\n",
    "    results.append({\n",
    "        \"n\": n,\n",
    "        \"time_sec\": t,\n",
    "        \"relative_error\": err\n",
    "    })\n",
    "\n",
    "# Convert the results to a DataFrame\n",
    "df = pd.DataFrame(results)\n",
    "\n",
    "# Save the results to a CSV file\n",
    "df.to_csv(\"data/bem_accuracy_vs_n.csv\", index=False)\n",
    "\n",
    "# Final message\n",
    "print(\"Results saved to 'bem_accuracy_vs_n.csv'\")\n"
   ]
  },
  {
   "cell_type": "markdown",
   "id": "550e5b0a",
   "metadata": {},
   "source": [
    "# PINNs time and accuracy"
   ]
  },
  {
   "cell_type": "code",
   "execution_count": 38,
   "id": "c6622d95",
   "metadata": {},
   "outputs": [
    {
     "name": "stdout",
     "output_type": "stream",
     "text": [
      "Evaluating for layers = 1, neurons = 25...\n",
      "Evaluating for layers = 1, neurons = 50...\n",
      "Evaluating for layers = 1, neurons = 75...\n",
      "Evaluating for layers = 2, neurons = 25...\n",
      "Evaluating for layers = 2, neurons = 50...\n",
      "Evaluating for layers = 2, neurons = 75...\n",
      "Evaluating for layers = 3, neurons = 25...\n",
      "Evaluating for layers = 3, neurons = 50...\n",
      "Evaluating for layers = 3, neurons = 75...\n",
      "Results saved to 'pinn_accuracy_vs_architecture.csv'\n"
     ]
    }
   ],
   "source": [
    " \n",
    "import pandas as pd\n",
    "\n",
    "# Define the number of layers and neurons per layer to evaluate\n",
    "layer_values = [1, 2, 3]\n",
    "neuron_values = [25, 50, 75]\n",
    "\n",
    "# List of training times in seconds (must match the order of layer-neuron combinations)\n",
    "training_pinn_time = [\n",
    "    268.5808, 287.7863, 291.1042,  # layers = 1\n",
    "    333.6271, 346.1852, 356.2399,  # layers = 2\n",
    "    401.7561, 396.7530, 430.8179   # layers = 3\n",
    "]\n",
    "\n",
    "# List to store the results\n",
    "results = []\n",
    "\n",
    "# Evaluate each combination of layers and neurons\n",
    "i = 0\n",
    "for layers in layer_values:\n",
    "    for neurons in neuron_values:\n",
    "        print(f\"Evaluating for layers = {layers}, neurons = {neurons}...\")\n",
    "        eval_time, rel_error = evaluate_pinn_accuracy(layers, neurons)\n",
    "        results.append({\n",
    "            \"layers\": layers,\n",
    "            \"neurons_per_layer\": neurons,\n",
    "            \"evaluation_time_sec\": eval_time,\n",
    "            \"relative_error\": rel_error,\n",
    "            \"training_time_sec\": training_pinn_time[i]\n",
    "        })\n",
    "        i += 1\n",
    "\n",
    "# Convert results to a DataFrame\n",
    "df = pd.DataFrame(results)\n",
    "\n",
    "# Save results to CSV\n",
    "df.to_csv(\"data/pinn_accuracy_vs_architecture.csv\", index=False)\n",
    "\n",
    "# Final message\n",
    "print(\"Results saved to 'pinn_accuracy_vs_architecture.csv'\")\n"
   ]
  },
  {
   "cell_type": "code",
   "execution_count": 1,
   "id": "893b26a0",
   "metadata": {},
   "outputs": [
    {
     "data": {
      "image/png": "[encoded data removed]",
      "text/plain": [
       "<Figure size 600x250 with 1 Axes>"
      ]
     },
     "metadata": {},
     "output_type": "display_data"
    }
   ],
   "source": [
    "import pandas as pd\n",
    "import matplotlib.pyplot as plt\n",
    "from matplotlib.ticker import LogLocator\n",
    "\n",
    "# --- Load CSV data ---\n",
    "bem_df = pd.read_csv(\"data/bem_accuracy_vs_n.csv\")\n",
    "pinn_df = pd.read_csv(\"data/pinn_accuracy_vs_architecture.csv\")\n",
    "\n",
    "# --- Marker sizes ---\n",
    "pinn_marker_sizes = 12 #* pinn_df[\"layers\"]  # PINN: scaled by number of layers\n",
    "bem_marker_sizes = 12 #* bem_df[\"n\"]          # BEM: scaled by number of integration points\n",
    "\n",
    "# --- Plot setup ---\n",
    "plt.figure(figsize=(6.0, 2.5))\n",
    "\n",
    "# --- Plot BEM (blue) ---\n",
    "plt.scatter(bem_df[\"relative_error\"], bem_df[\"time_sec\"],\n",
    "            color=\"#0044c4\", edgecolors=\"#0000a8\",\n",
    "            label='BEM (evaluation)', s=bem_marker_sizes, zorder=5)\n",
    "\n",
    "# --- Plot PINN evaluation time (gray) ---\n",
    "plt.scatter(pinn_df[\"relative_error\"], pinn_df[\"evaluation_time_sec\"],\n",
    "            color=\"#bbbbbb\", edgecolors=\"#5e5e5e\",\n",
    "            label='PINN (evaluation)', s=pinn_marker_sizes, zorder=4)\n",
    "\n",
    "# --- Plot PINN training time (white with gray border) ---\n",
    "plt.scatter(pinn_df[\"relative_error\"], pinn_df[\"training_time_sec\"],\n",
    "            color=\"#FFFFFF\", edgecolors=\"#6E6E6E\",\n",
    "            label='PINN (training)', s=pinn_marker_sizes, zorder=3)\n",
    "\n",
    "# --- Axes labels ---\n",
    "plt.xlabel('Relative Error', fontsize=8)\n",
    "plt.ylabel('Time (s)', fontsize=8)\n",
    "\n",
    "# --- Log-log scale ---\n",
    "plt.xscale('log')\n",
    "plt.yscale('log')\n",
    "\n",
    "# --- Ticks ---\n",
    "ax = plt.gca()\n",
    "ax.set_xticks([1e+0, 1e-1, 1e-2])\n",
    "ax.set_xticklabels([r'$10^{0}$', r'$10^{-1}$', r'$10^{-2}$'], fontsize=8)\n",
    "ax.yaxis.set_major_locator(LogLocator(base=10.0, subs=(1.0, 2.0, 5.0), numticks=10))\n",
    "ax.set_yticks([1e+3,1e+2,1e+1,1e+0, 1e-1, 1e-2])\n",
    "ax.set_yticklabels([r'$10^{3}$', r'$10^{2}$', r'$10^{1}$', r'$10^{0}$', r'$10^{-1}$', r'$10^{-2}$'], fontsize=8)\n",
    "\n",
    "\n",
    "# --- Legend ---\n",
    "plt.legend(loc='lower left', fontsize=7.5, frameon=False,\n",
    "           handletextpad=0.5, markerscale=0.9, labelspacing=1.2)\n",
    "\n",
    "# --- Final layout and save ---\n",
    "plt.tight_layout()\n",
    "plt.savefig(\"figures/rel_error_time.svg\", dpi=150, bbox_inches='tight')\n",
    "plt.show()\n"
   ]
  }
 ],
 "metadata": {
  "kernelspec": {
   "display_name": "comparative-pinns-bem-env",
   "language": "python",
   "name": "python3"
  },
  "language_info": {
   "codemirror_mode": {
    "name": "ipython",
    "version": 3
   },
   "file_extension": ".py",
   "mimetype": "text/x-python",
   "name": "python",
   "nbconvert_exporter": "python",
   "pygments_lexer": "ipython3",
   "version": "3.12.3"
  }
 },
 "nbformat": 4,
 "nbformat_minor": 5
}
