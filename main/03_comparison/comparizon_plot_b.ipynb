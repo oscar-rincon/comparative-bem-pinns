{
 "cells": [
  {
   "cell_type": "code",
   "execution_count": null,
   "id": "32daf2af",
   "metadata": {},
   "outputs": [],
   "source": [
    "from svgutils.compose import *\n",
    "\n",
    "# Load the SVGs\n",
    "svg1 = SVG(\"figures/bem_error.svg\")\n",
    "svg2 = SVG(\"figures/pinns_error.svg\")\n",
    "\n",
    "# Create a figure using known dimensions\n",
    "Figure(\n",
    "    573,  # total width (still no math if you avoid this by guessing)\n",
    "    148,  # height (or just use one of them)\n",
    "    Panel(svg1),\n",
    "    Panel(svg2).move(295, 0)\n",
    ").save(\"figures/errors.svg\")"
   ]
  }
 ],
 "metadata": {
  "kernelspec": {
   "display_name": "comparative-pinns-bem-env",
   "language": "python",
   "name": "python3"
  },
  "language_info": {
   "codemirror_mode": {
    "name": "ipython",
    "version": 3
   },
   "file_extension": ".py",
   "mimetype": "text/x-python",
   "name": "python",
   "nbconvert_exporter": "python",
   "pygments_lexer": "ipython3",
   "version": "3.12.3"
  }
 },
 "nbformat": 4,
 "nbformat_minor": 5
}
